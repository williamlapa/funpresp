{
 "cells": [
  {
   "cell_type": "code",
   "execution_count": 12,
   "metadata": {},
   "outputs": [
    {
     "ename": "ModuleNotFoundError",
     "evalue": "No module named 'date'",
     "output_type": "error",
     "traceback": [
      "\u001b[1;31m---------------------------------------------------------------------------\u001b[0m",
      "\u001b[1;31mModuleNotFoundError\u001b[0m                       Traceback (most recent call last)",
      "\u001b[1;32m<ipython-input-12-b40c23e1a5a0>\u001b[0m in \u001b[0;36m<module>\u001b[1;34m\u001b[0m\n\u001b[1;32m----> 1\u001b[1;33m \u001b[1;32mimport\u001b[0m \u001b[0mdatetime\u001b[0m \u001b[1;32mas\u001b[0m \u001b[0mdatetime\u001b[0m\u001b[1;33m,\u001b[0m \u001b[0mdate\u001b[0m\u001b[1;33m\u001b[0m\u001b[1;33m\u001b[0m\u001b[0m\n\u001b[0m\u001b[0;32m      2\u001b[0m \u001b[1;32mimport\u001b[0m \u001b[0mpandas\u001b[0m \u001b[1;32mas\u001b[0m \u001b[0mpd\u001b[0m\u001b[1;33m\u001b[0m\u001b[1;33m\u001b[0m\u001b[0m\n",
      "\u001b[1;31mModuleNotFoundError\u001b[0m: No module named 'date'"
     ]
    }
   ],
   "source": [
    "import pandas as pd"
   ]
  },
  {
   "cell_type": "code",
   "execution_count": null,
   "metadata": {},
   "outputs": [],
   "source": [
    "# Importa planilha\n",
    "\n",
    "usecols = [\n",
    "          \"Unnamed: 1\",\n",
    "          \"Unnamed: 2\", \n",
    "          \"Unnamed: 3\", \n",
    "          \"Unnamed: 4\", \n",
    "          \"Unnamed: 5\"\n",
    "          ]\n",
    "\n",
    "df_exec = pd.read_excel(\"https://www.funpresp.com.br/wp-content/uploads/2021/11/Historico-de-Cotas-2022-3-1.xlsx\", \n",
    "          sheet_name='cotas plano Executivo', \n",
    "          skiprows= 5,\n",
    "          usecols=usecols\n",
    "          )\n",
    "\n",
    "df_legi = pd.read_excel(\"https://www.funpresp.com.br/wp-content/uploads/2021/11/Historico-de-Cotas-2022-3-1.xlsx\", \n",
    "          sheet_name='cotas plano Legislativo',\n",
    "          skiprows= 5,\n",
    "          usecols=usecols\n",
    "           )\n",
    "\n",
    "#Ajustes nos data frames\n",
    "\n",
    "df_exec = df_exec.rename({\"Unnamed: 1\":\"Data\",\"Unnamed: 2\":\"Perfil_1\", \"Unnamed: 3\":\"Perfil_2\", \"Unnamed: 4\":\"Perfil_3\",\"Unnamed: 5\":\"Perfil_4\" }, axis='columns')\n",
    "df_exec = df_exec.set_index('Data')\n",
    "\n",
    "df_legi = df_legi.rename({\"Unnamed: 1\":\"Data\",\"Unnamed: 2\":\"Perfil_1\", \"Unnamed: 3\":\"Perfil_2\", \"Unnamed: 4\":\"Perfil_3\",\"Unnamed: 5\":\"Perfil_4\" }, axis='columns')\n",
    "df_legi = df_legi.set_index('Data')\n",
    "\n",
    "# Cabeçalho\n",
    "\n",
    "df_exec.head()\n",
    "df_legi.head()"
   ]
  },
  {
   "cell_type": "code",
   "execution_count": null,
   "metadata": {},
   "outputs": [],
   "source": [
    "df_exec = df_exec.melt(value_name='cota', var_name='Perfil', ignore_index=False)\n",
    "df_exec['plano'] = 'Executivo'\n",
    "df_exec.reset_index('Data',inplace=True)\n",
    "df_exec = df_exec.astype({\"Data\": \"datetime64[ms]\"})\n",
    "df_exec.set_index('Data', inplace=True)\n",
    "#df_exec.head()\n",
    "\n",
    "df_legi = df_legi.melt(value_name='cota', var_name='Perfil', ignore_index=False)\n",
    "df_legi['plano'] = 'Legislativo'\n",
    "df_legi.reset_index('Data',inplace=True)\n",
    "df_legi = df_legi.astype({\"Data\": \"datetime64[ms]\"})\n",
    "df_legi.set_index('Data', inplace=True)\n",
    "#df_legi.head()\n",
    "\n",
    "df = df_exec.append(df_legi)\n",
    "\n",
    "df.head()\n"
   ]
  },
  {
   "cell_type": "code",
   "execution_count": null,
   "metadata": {},
   "outputs": [],
   "source": [
    "# Importa planilha\n",
    "\n",
    "usecols = [\n",
    "          \"Unnamed: 1\",\n",
    "          \"Unnamed: 2\", \n",
    "          \"Unnamed: 3\", \n",
    "          \"Unnamed: 4\", \n",
    "          \"Unnamed: 5\"\n",
    "          ]\n",
    "\n",
    "df_exec = pd.read_excel(\"https://www.funpresp.com.br/wp-content/uploads/2022/03/Historico-de-Cotas-20221.xlsx\", \n",
    "          sheet_name='cotas plano Executivo', \n",
    "          skiprows= 5,\n",
    "          usecols=usecols\n",
    "          )\n",
    "\n",
    "#Ajustes nos data frames\n",
    "df_exec = df_exec.rename({\"Unnamed: 1\":\"Data\",\"Unnamed: 2\":\"Perfil_1\", \"Unnamed: 3\":\"Perfil_2\", \"Unnamed: 4\":\"Perfil_3\",\"Unnamed: 5\":\"Perfil_4\" }, axis='columns')\n",
    "df_exec = df_exec.set_index('Data')\n",
    "df_exec = df_exec.melt(value_name='cota', var_name='Perfil', ignore_index=False)\n",
    "df_exec.reset_index('Data',inplace=True)\n",
    "df_exec = df_exec.astype({\"Data\": \"datetime64[ms]\"})\n",
    "df_exec.set_index('Data', inplace=True)\n",
    "df_exec.head()"
   ]
  },
  {
   "cell_type": "code",
   "execution_count": 4,
   "metadata": {},
   "outputs": [
    {
     "data": {
      "text/html": [
       "<div>\n",
       "<style scoped>\n",
       "    .dataframe tbody tr th:only-of-type {\n",
       "        vertical-align: middle;\n",
       "    }\n",
       "\n",
       "    .dataframe tbody tr th {\n",
       "        vertical-align: top;\n",
       "    }\n",
       "\n",
       "    .dataframe thead th {\n",
       "        text-align: right;\n",
       "    }\n",
       "</style>\n",
       "<table border=\"1\" class=\"dataframe\">\n",
       "  <thead>\n",
       "    <tr style=\"text-align: right;\">\n",
       "      <th></th>\n",
       "      <th>Data</th>\n",
       "      <th>Perfil</th>\n",
       "      <th>cota</th>\n",
       "      <th>plano</th>\n",
       "    </tr>\n",
       "  </thead>\n",
       "  <tbody>\n",
       "    <tr>\n",
       "      <th>8799</th>\n",
       "      <td>2022-02-14</td>\n",
       "      <td>Perfil_4</td>\n",
       "      <td>2.422054</td>\n",
       "      <td>Legislativo</td>\n",
       "    </tr>\n",
       "    <tr>\n",
       "      <th>8800</th>\n",
       "      <td>2022-02-15</td>\n",
       "      <td>Perfil_4</td>\n",
       "      <td>2.425663</td>\n",
       "      <td>Legislativo</td>\n",
       "    </tr>\n",
       "    <tr>\n",
       "      <th>8801</th>\n",
       "      <td>2022-02-16</td>\n",
       "      <td>Perfil_4</td>\n",
       "      <td>2.427870</td>\n",
       "      <td>Legislativo</td>\n",
       "    </tr>\n",
       "    <tr>\n",
       "      <th>8802</th>\n",
       "      <td>2022-02-17</td>\n",
       "      <td>Perfil_4</td>\n",
       "      <td>2.424581</td>\n",
       "      <td>Legislativo</td>\n",
       "    </tr>\n",
       "    <tr>\n",
       "      <th>8803</th>\n",
       "      <td>2022-02-18</td>\n",
       "      <td>Perfil_4</td>\n",
       "      <td>2.424355</td>\n",
       "      <td>Legislativo</td>\n",
       "    </tr>\n",
       "  </tbody>\n",
       "</table>\n",
       "</div>"
      ],
      "text/plain": [
       "           Data    Perfil      cota        plano\n",
       "8799 2022-02-14  Perfil_4  2.422054  Legislativo\n",
       "8800 2022-02-15  Perfil_4  2.425663  Legislativo\n",
       "8801 2022-02-16  Perfil_4  2.427870  Legislativo\n",
       "8802 2022-02-17  Perfil_4  2.424581  Legislativo\n",
       "8803 2022-02-18  Perfil_4  2.424355  Legislativo"
      ]
     },
     "execution_count": 4,
     "metadata": {},
     "output_type": "execute_result"
    }
   ],
   "source": [
    "def get_data_from_excel():\n",
    "    usecols = [\n",
    "              \"Unnamed: 1\",\n",
    "              \"Unnamed: 2\", \n",
    "              \"Unnamed: 3\", \n",
    "              \"Unnamed: 4\", \n",
    "              \"Unnamed: 5\"\n",
    "              ]\n",
    "    link = \"https://www.funpresp.com.br/wp-content/uploads/2021/11/Historico-de-Cotas-2022-3-1.xlsx\"\n",
    "    \n",
    "    df_exec = pd.read_excel(link, \n",
    "              sheet_name='cotas plano Executivo', \n",
    "              skiprows= 5,\n",
    "              usecols=usecols\n",
    "              )\n",
    "\n",
    "    df_legi = pd.read_excel(link, \n",
    "              sheet_name='cotas plano Legislativo', \n",
    "              skiprows= 5,\n",
    "              usecols=usecols\n",
    "              )\n",
    "    #Ajustes nos data frames\n",
    "    \n",
    "    df_exec = df_exec.rename({\"Unnamed: 1\":\"Data\",\"Unnamed: 2\":\"Perfil_1\", \"Unnamed: 3\":\"Perfil_2\", \"Unnamed: 4\":\"Perfil_3\",\"Unnamed: 5\":\"Perfil_4\" }, axis='columns')\n",
    "    df_exec = df_exec.set_index('Data')\n",
    "    df_exec = df_exec.melt(value_name='cota', var_name='Perfil', ignore_index=False)\n",
    "    df_exec['plano'] = 'Executivo'\n",
    "    df_exec.reset_index('Data',inplace=True)\n",
    "    df_exec = df_exec.astype({\"Data\": \"datetime64[ms]\"})\n",
    "        \n",
    "    df_legi = df_legi.rename({\"Unnamed: 1\":\"Data\",\"Unnamed: 2\":\"Perfil_1\", \"Unnamed: 3\":\"Perfil_2\", \"Unnamed: 4\":\"Perfil_3\",\"Unnamed: 5\":\"Perfil_4\" }, axis='columns')\n",
    "    df_legi = df_legi.set_index('Data')\n",
    "    df_legi = df_legi.melt(value_name='cota', var_name='Perfil', ignore_index=False)\n",
    "    df_legi['plano'] = 'Legislativo'\n",
    "    df_legi.reset_index('Data',inplace=True)\n",
    "    df_legi = df_legi.astype({\"Data\": \"datetime64[ms]\"})\n",
    "\n",
    "    df = df_exec.append(df_legi)\n",
    "\n",
    "    return df\n",
    "\n",
    "df = get_data_from_excel()\n",
    "\n",
    "df.tail()"
   ]
  },
  {
   "cell_type": "code",
   "execution_count": 14,
   "metadata": {},
   "outputs": [
    {
     "data": {
      "text/plain": [
       "2022"
      ]
     },
     "execution_count": 14,
     "metadata": {},
     "output_type": "execute_result"
    }
   ],
   "source": [
    "df.Data.dt.year.max()\n",
    "\n"
   ]
  }
 ],
 "metadata": {
  "interpreter": {
   "hash": "ae7890921ac3c17143ff000ac7152addc6614e2051824da39aa37dab63d26d82"
  },
  "kernelspec": {
   "display_name": "Python 3.8.5 64-bit ('base': conda)",
   "language": "python",
   "name": "python3"
  },
  "language_info": {
   "codemirror_mode": {
    "name": "ipython",
    "version": 3
   },
   "file_extension": ".py",
   "mimetype": "text/x-python",
   "name": "python",
   "nbconvert_exporter": "python",
   "pygments_lexer": "ipython3",
   "version": "3.8.5"
  },
  "orig_nbformat": 4
 },
 "nbformat": 4,
 "nbformat_minor": 2
}
